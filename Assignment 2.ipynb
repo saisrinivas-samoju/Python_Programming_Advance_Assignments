{
 "cells": [
  {
   "cell_type": "markdown",
   "metadata": {},
   "source": [
    "## 1. Find the number of dots for the given number of layers of the pentagon."
   ]
  },
  {
   "cell_type": "markdown",
   "metadata": {},
   "source": [
    "1. Write a function that takes a positive integer num and calculates how many dots exist in a pentagonal shape around the center dot on the Nth iteration.\n",
    "\n",
    "In the image below you can see the first iteration is only a single dot. On the second, there are 6 dots. On the third, there are 16 dots, and on the fourth there are 31 dots."
   ]
  },
  {
   "cell_type": "markdown",
   "metadata": {},
   "source": [
    "<a href=\"https://imgbb.com/\"><img src=\"https://i.ibb.co/NCytCGX/dots-image.png\" alt=\"dots-image\" border=\"0\"></a>"
   ]
  },
  {
   "cell_type": "markdown",
   "metadata": {},
   "source": [
    "Return the number of dots that exist in the whole pentagon on the Nth iteration.\n",
    "\n",
    "Examples\n",
    "\n",
    "pentagonal(1) ➞ 1\n",
    "\n",
    "pentagonal(2) ➞ 6\n",
    "\n",
    "pentagonal(3) ➞ 16\n",
    "\n",
    "pentagonal(8) ➞ 141"
   ]
  },
  {
   "cell_type": "code",
   "execution_count": 1,
   "metadata": {},
   "outputs": [
    {
     "name": "stdout",
     "output_type": "stream",
     "text": [
      "1\n",
      "6\n",
      "16\n",
      "141\n"
     ]
    }
   ],
   "source": [
    "def pentagonal(num):\n",
    "    total = 1\n",
    "    if num==1:\n",
    "        return 1\n",
    "    else:\n",
    "        for i in range(1, num):\n",
    "            total += i*5\n",
    "        return total\n",
    "    \n",
    "print(pentagonal(1))\n",
    "print(pentagonal(2))\n",
    "print(pentagonal(3))\n",
    "print(pentagonal(8))"
   ]
  },
  {
   "cell_type": "markdown",
   "metadata": {},
   "source": [
    "## 2. Encrypt the given string according to the given steps."
   ]
  },
  {
   "cell_type": "markdown",
   "metadata": {},
   "source": [
    "2.  Make a function that encrypts a given input with these steps:\n",
    "\n",
    "Input: \"apple\"\n",
    "\n",
    "Step 1: Reverse the input: \"elppa\"\n",
    "\n",
    "Step 2: Replace all vowels using the following chart:\n",
    "\n",
    "a => 0\n",
    "e => 1\n",
    "i => 2\n",
    "o => 2\n",
    "u => 3\n",
    "\n",
    "\"1lpp0\"\n",
    "\n",
    "Step 3: Add \"aca\" to the end of the word: \"1lpp0aca\"\n",
    "\n",
    "Output: \"1lpp0aca\"\n",
    "\n",
    "Examples\n",
    "\n",
    "encrypt(\"banana\") ➞ \"0n0n0baca\"\n",
    "\n",
    "encrypt(\"karaca\") ➞ \"0c0r0kaca\"\n",
    "\n",
    "encrypt(\"burak\") ➞ \"k0r3baca\"\n",
    "\n",
    "encrypt(\"alpaca\") ➞ \"0c0pl0aca\""
   ]
  },
  {
   "cell_type": "code",
   "execution_count": 2,
   "metadata": {},
   "outputs": [
    {
     "name": "stdout",
     "output_type": "stream",
     "text": [
      "0n0n0baca\n",
      "0c0r0kaca\n",
      "k0r3baca\n",
      "0c0pl0aca\n"
     ]
    }
   ],
   "source": [
    "def encrypt(text):\n",
    "    # Since, in the given question, it is mentioned to follow the chart.\n",
    "    #Even though, the value of i and o are same(i.e. 2), I am following it\n",
    "    vowels = {'a':0, 'e':1, 'i':2, 'o':2, 'u':3}\n",
    "    new_text = ''\n",
    "    for i in list(text)[::-1]:\n",
    "        if i in vowels:\n",
    "            new_text += str(vowels[i])\n",
    "        else:\n",
    "            new_text +=i\n",
    "    return new_text+'aca'\n",
    "\n",
    "\n",
    "print(encrypt(\"banana\"))\n",
    "print(encrypt(\"karaca\"))\n",
    "print(encrypt(\"burak\"))\n",
    "print(encrypt(\"alpaca\"))"
   ]
  },
  {
   "cell_type": "markdown",
   "metadata": {},
   "source": [
    "## 3. Check if the given month of the year contains a Friday 13th."
   ]
  },
  {
   "cell_type": "markdown",
   "metadata": {},
   "source": [
    "3. Given the month and year as numbers, return whether that month contains a Friday 13th.(i.e You can check Python's datetime module)\n",
    "\n",
    "Examples\n",
    "\n",
    "has_friday_13(3, 2020) ➞ True\n",
    "\n",
    "has_friday_13(10, 2017) ➞ True\n",
    "\n",
    "has_friday_13(1, 1985) ➞ False"
   ]
  },
  {
   "cell_type": "code",
   "execution_count": 3,
   "metadata": {},
   "outputs": [
    {
     "name": "stdout",
     "output_type": "stream",
     "text": [
      "True\n",
      "True\n",
      "False\n"
     ]
    }
   ],
   "source": [
    "import datetime\n",
    "has_friday_13 = lambda month, year: datetime.date(year,month, 13).weekday() == 4\n",
    "\n",
    "print(has_friday_13(3, 2020))\n",
    "print(has_friday_13(10, 2017))\n",
    "print(has_friday_13(1, 1985))"
   ]
  },
  {
   "cell_type": "markdown",
   "metadata": {},
   "source": [
    "## 4. Count the number of bad cookies in the given list using regular expressions."
   ]
  },
  {
   "cell_type": "markdown",
   "metadata": {},
   "source": [
    "4. Write a regular expression that will help us count how many bad cookies are produced every day. You must use RegEx negative lookbehind.\n",
    "\n",
    "Example\n",
    "\n",
    "lst = [\"bad cookie\", \"good cookie\", \"bad cookie\", \"good cookie\", \"good cookie\"]\n",
    "pattern = \"yourregularexpressionhere\"\n",
    "\n",
    "len(re.findall(pattern, \", \".join(lst))) ➞ 2"
   ]
  },
  {
   "cell_type": "code",
   "execution_count": 4,
   "metadata": {},
   "outputs": [
    {
     "data": {
      "text/plain": [
       "2"
      ]
     },
     "execution_count": 4,
     "metadata": {},
     "output_type": "execute_result"
    }
   ],
   "source": [
    "import re\n",
    "pattern = 'bad cookie'\n",
    "lst = [\"bad cookie\", \"good cookie\", \"bad cookie\", \"good cookie\", \"good cookie\"]\n",
    "len(re.findall(pattern, ' '.join(lst)))"
   ]
  },
  {
   "cell_type": "markdown",
   "metadata": {},
   "source": [
    "## 5. Make the words plural if they appear more than once."
   ]
  },
  {
   "cell_type": "markdown",
   "metadata": {},
   "source": [
    "5. Given a list of words in the singular form, return a set of those words in the plural form if they appear more than once in the list.\n",
    "\n",
    "Examples\n",
    "\n",
    "pluralize([\"cow\", \"pig\", \"cow\", \"cow\"]) ➞ { \"cows\", \"pig\" }\n",
    "\n",
    "pluralize([\"table\", \"table\", \"table\"]) ➞ { \"tables\" }\n",
    "\n",
    "pluralize([\"chair\", \"pencil\", \"arm\"]) ➞ { \"chair\", \"pencil\", \"arm\" }"
   ]
  },
  {
   "cell_type": "code",
   "execution_count": 5,
   "metadata": {},
   "outputs": [
    {
     "name": "stdout",
     "output_type": "stream",
     "text": [
      "{'cows', 'pig'}\n",
      "{'tables'}\n",
      "{'chair', 'pencil', 'arm'}\n"
     ]
    }
   ],
   "source": [
    "# Since, it is a python code exercise. I am not going to the equations of adding -s, -es, -ves, or other types to make it grammatically correct.\n",
    "# We will simply add -s at the end of repeating words.\n",
    "\n",
    "def pluralize(lst):\n",
    "    a = set()\n",
    "    for i in lst:\n",
    "        if lst.count(i)>1:\n",
    "            a.add(i+'s')\n",
    "        else:\n",
    "            a.add(i)\n",
    "    return a\n",
    "\n",
    "print(pluralize([\"cow\", \"pig\", \"cow\", \"cow\"]))\n",
    "print(pluralize([\"table\", \"table\", \"table\"]))\n",
    "print(pluralize([\"chair\", \"pencil\", \"arm\"]))"
   ]
  }
 ],
 "metadata": {
  "kernelspec": {
   "display_name": "Python 3",
   "language": "python",
   "name": "python3"
  },
  "language_info": {
   "codemirror_mode": {
    "name": "ipython",
    "version": 3
   },
   "file_extension": ".py",
   "mimetype": "text/x-python",
   "name": "python",
   "nbconvert_exporter": "python",
   "pygments_lexer": "ipython3",
   "version": "3.8.5"
  }
 },
 "nbformat": 4,
 "nbformat_minor": 4
}
