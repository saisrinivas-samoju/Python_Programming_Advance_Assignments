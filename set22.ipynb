{
 "cells": [
  {
   "cell_type": "markdown",
   "id": "40598ff8",
   "metadata": {},
   "source": [
    "## 1. Create a class Smoothie according to the given conditions."
   ]
  },
  {
   "cell_type": "markdown",
   "id": "24239451",
   "metadata": {},
   "source": [
    "1. Create a class Smoothie and do the following:\n",
    "\n",
    "    - Create an instance attribute called ingredients.\n",
    "    - Create a get_cost method which calculates the total cost of the ingredients used to make the smoothie.\n",
    "    - Create a get_price method which returns the number from get_cost plus the number from get_cost multiplied by 1.5. Round to two decimal places.\n",
    "    - Create a get_name method which gets the ingredients and puts them in alphabetical order into a nice descriptive sentence. If there are multiple ingredients, add the word \"Fusion\" to the end but otherwise, add \"Smoothie\". Remember to change \"-berries\" to \"-berry\". See the examples below.\n",
    "\n",
    "Ingredient\t   Price\n",
    "Strawberries   $1.50\n",
    "Banana\t       $0.50\n",
    "Mango\t       $2.50\n",
    "Blueberries\t   $1.00\n",
    "Raspberries\t   $1.00\n",
    "Apple\t       $1.75\n",
    "Pineapple\t   $3.50\n",
    "\n",
    "Examples\n",
    "\n",
    "s1 = Smoothie([\"Banana\"])\n",
    "\n",
    "s1.ingredients ➞ [\"Banana\"]\n",
    "\n",
    "s1.get_cost() ➞ \"$0.50\"\n",
    "\n",
    "s1.get_price() ➞ \"$1.25\"\n",
    "\n",
    "s1.get_name() ➞ \"Banana Smoothie\"\n",
    "\n",
    "s2 = Smoothie([\"Raspberries\", \"Strawberries\", \"Blueberries\"])\n",
    "\n",
    "s2.ingredients ➞ [\"Raspberries\", \"Strawberries\", \"Blueberries\"]\n",
    "\n",
    "s2.get_cost() ➞ \"$3.50\"\n",
    "\n",
    "s2.get_price() ➞ \"$8.75\"\n",
    "\n",
    "s2.get_name() ➞ \"Blueberry Raspberry Strawberry Fusion\""
   ]
  },
  {
   "cell_type": "code",
   "execution_count": 1,
   "id": "ee25cc9b",
   "metadata": {},
   "outputs": [
    {
     "name": "stdout",
     "output_type": "stream",
     "text": [
      "['Banana']\n",
      "$0.50\n",
      "$1.25\n",
      "Banana Smoothie\n",
      "['Raspberries', 'Strawberries', 'Blueberries']\n",
      "$3.50\n",
      "$8.75\n",
      "Blueberry Raspberry Strawberry Fusion\n"
     ]
    }
   ],
   "source": [
    "class Smoothie:\n",
    "    d = {\"Strawberries\":1.50, \"Banana\":0.50, \"Mango\":2.50, \"Blueberries\":1.00, \"Raspberries\":1.00,\"Apple\":1.75,\"Pineapple\":3.50}\n",
    "    def __init__(self, ingredients):\n",
    "        self.ingredients = ingredients\n",
    "    def get_cost(self):\n",
    "        res = 0\n",
    "        for item in self.ingredients:\n",
    "            res +=self.d[item]\n",
    "        return f\"${res:2.2f}\"\n",
    "            \n",
    "    def get_price(self):\n",
    "        res = 0\n",
    "        for item in self.ingredients:\n",
    "            res +=self.d[item]\n",
    "        res = 2.5*res\n",
    "        return f\"${res:2.2f}\"\n",
    "    def get_name(self):\n",
    "        items = []\n",
    "        for i in self.ingredients:\n",
    "            if i[-3:]=='ies':\n",
    "                items.append(i[:-3]+'y')\n",
    "            else:\n",
    "                items.append(i)\n",
    "        if len(items)>1:\n",
    "            return ' '.join(sorted(items)) + \" Fusion\"\n",
    "        else:\n",
    "            return items[0]+' Smoothie'\n",
    "\n",
    "s1 = Smoothie([\"Banana\"])\n",
    "\n",
    "print(s1.ingredients)                  # [\"Banana\"]\n",
    "\n",
    "print(s1.get_cost())                   # \"$0.50\"\n",
    "\n",
    "print(s1.get_price())                  # \"$1.25\"\n",
    "\n",
    "print(s1.get_name())                   # \"Banana Smoothie\"\n",
    "\n",
    "s2 = Smoothie([\"Raspberries\", \"Strawberries\", \"Blueberries\"])\n",
    "\n",
    "print(s2.ingredients)                  # [\"Raspberries\", \"Strawberries\", \"Blueberries\"]\n",
    "\n",
    "print(s2.get_cost())                   # \"$3.50\"\n",
    "\n",
    "print(s2.get_price())                  # \"$8.75\"\n",
    "\n",
    "print(s2.get_name() )                  # \"Blueberry Raspberry Strawberry Fusion\""
   ]
  },
  {
   "cell_type": "markdown",
   "id": "f2ac19c6",
   "metadata": {},
   "source": [
    "## 2. Create a program to find the students score and if they passed the exam they have taken or not."
   ]
  },
  {
   "cell_type": "markdown",
   "id": "72b1088b",
   "metadata": {},
   "source": [
    "2. Your task is to write a program which allows teachers to create a multiple choice test in a class called Testpaper and to be also able to assign a minimum pass mark. The testpaper's subject should also be included. The attributes are in the following order:\n",
    "\n",
    "  1. subject\n",
    "  2. markscheme\n",
    "  3. pass_mark\n",
    "\n",
    "As well as that, we need to create student objects to take the test itself! Create another class called Student and do the following:\n",
    "\n",
    "  - Create an attribute called tests_taken and set the default as 'No tests taken'.\n",
    "  - Make a method called take_test(), which takes in the testpaper object they are completing and the student's answers. Compare what they wrote to the mark scheme, and append to the/create a dictionary assigned to tests_taken in the way as shown in the point below.\n",
    "  - Each key in the dictionary should be the testpaper subject and each value should be a string in the format seen in the examples below (whether or not the student has failed, and their percentage in brackets).\n",
    "\n",
    "Examples\n",
    "\n",
    "paper1 = Testpaper(\"Maths\", [\"1A\", \"2C\", \"3D\", \"4A\", \"5A\"], \"60%\")\n",
    "paper2 = Testpaper(\"Chemistry\", [\"1C\", \"2C\", \"3D\", \"4A\"], \"75%\")\n",
    "paper3 = Testpaper(\"Computing\", [\"1D\", \"2C\", \"3C\", \"4B\", \"5D\", \"6C\", \"7A\"], \"75%\")\n",
    "\n",
    "student1 = Student()\n",
    "student2 = Student()\n",
    "\n",
    "student1.tests_taken ➞ \"No tests taken\"\n",
    "student1.take_test(paper1, [\"1A\", \"2D\", \"3D\", \"4A\", \"5A\"])\n",
    "student1.tests_taken ➞ {\"Maths\" : \"Passed! (80%)\"}\n",
    "\n",
    "student2.take_test(paper2, [\"1C\", \"2D\", \"3A\", \"4C\"])\n",
    "student2.take_test(paper3, [\"1A\", \"2C\", \"3A\", \"4C\", \"5D\", \"6C\", \"7B\"])\n",
    "student2.tests_taken ➞ {\"Chemistry\" : \"Failed! (25%)\", \"Computing\" : \"Failed! (43%)\"}"
   ]
  },
  {
   "cell_type": "code",
   "execution_count": 2,
   "id": "fdbf82c9",
   "metadata": {},
   "outputs": [
    {
     "name": "stdout",
     "output_type": "stream",
     "text": [
      "No tests taken\n",
      "{'Maths': 'Passed! (80%)'}\n",
      "{'Chemistry': 'Failed! (25%)', 'Computing': 'Failed! (43%)'}\n"
     ]
    }
   ],
   "source": [
    "class Testpaper:\n",
    "    def __init__(self, subject, markscheme, pass_mark):\n",
    "        self.subject = subject\n",
    "        self.markscheme = markscheme\n",
    "        self.pass_mark = pass_mark\n",
    "        \n",
    "class Student:\n",
    "    def __init__(self):\n",
    "        self.tests_taken = 'No tests taken'\n",
    "    def take_test(self, paper, answers):\n",
    "        res = 0\n",
    "        for i in paper.markscheme:\n",
    "            for j in answers:\n",
    "                if i==j:\n",
    "                    res +=1\n",
    "        if type(self.tests_taken)==dict:\n",
    "            if res*100/len(paper.markscheme)>=eval(paper.pass_mark[:-1]):\n",
    "                self.tests_taken[paper.subject]=f\"Passed! ({round(res*100/len(paper.markscheme))}%)\"\n",
    "            else:\n",
    "                self.tests_taken[paper.subject]=f\"Failed! ({round(res*100/len(paper.markscheme))}%)\"\n",
    "        else:\n",
    "            self.tests_taken = {}\n",
    "            if res*100/len(paper.markscheme)>=eval(paper.pass_mark[:-1]):\n",
    "                self.tests_taken[paper.subject]=f\"Passed! ({round(res*100/len(paper.markscheme))}%)\"\n",
    "            else:\n",
    "                self.tests_taken[paper.subject]=f\"Failed! ({round(res*100/len(paper.markscheme))}%)\"\n",
    "\n",
    "paper1 = Testpaper(\"Maths\", [\"1A\", \"2C\", \"3D\", \"4A\", \"5A\"], \"60%\")\n",
    "paper2 = Testpaper(\"Chemistry\", [\"1C\", \"2C\", \"3D\", \"4A\"], \"75%\")\n",
    "paper3 = Testpaper(\"Computing\", [\"1D\", \"2C\", \"3C\", \"4B\", \"5D\", \"6C\", \"7A\"], \"75%\")\n",
    "\n",
    "student1 = Student()\n",
    "student2 = Student()\n",
    "\n",
    "print(student1.tests_taken)                               # \"No tests taken\"\n",
    "student1.take_test(paper1, [\"1A\", \"2D\", \"3D\", \"4A\", \"5A\"])\n",
    "print(student1.tests_taken)                               # {\"Maths\" : \"Passed! (80%)\"}\n",
    "\n",
    "student2.take_test(paper2, [\"1C\", \"2D\", \"3A\", \"4C\"])\n",
    "student2.take_test(paper3, [\"1A\", \"2C\", \"3A\", \"4C\", \"5D\", \"6C\", \"7B\"])\n",
    "print(student2.tests_taken)                               # {\"Chemistry\" : \"Failed! (25%)\", \"Computing\" : \"Failed! (43%)\"}"
   ]
  },
  {
   "cell_type": "markdown",
   "id": "497c2ade",
   "metadata": {},
   "source": [
    "## 3. Find the expected time to reach the destination station according to the conditions of delay in the the trains."
   ]
  },
  {
   "cell_type": "markdown",
   "id": "56e06777",
   "metadata": {},
   "source": [
    "3. Due to unforseen circumstances in Suburbia, the trains will be delayed by a further 10 minutes.\n",
    "\n",
    "Create a function that will help to plan out and manage these delays! Create a function called manage_delays that does the following:\n",
    "\n",
    "   - Parameters will be the train object, a destination and number of minutes the delay is.\n",
    "   - Increment to the train object's expected_time by the delay, if the destination given is in the train object's destinations.\n",
    "\n",
    "Examples\n",
    "\n",
    "trains = [\n",
    "  Train([\"Townsville\", \"Suburbia\", \"Urbantska\"], \"13:04\"),\n",
    "  Train([\"Farmsdale\", \"Suburbia\", \"Lakeside Valley\"], \"13:20\"),\n",
    "  Train([\"Suburbia\", \"Townsville\", \"Lakeside Valley\"], \"13:22\")\n",
    "]\n",
    "\n",
    "for t in trains:\n",
    "    manage_delays(t, \"Lakeside Valley\", 60)\n",
    "\n",
    "trains[0].expected_time ➞ \"13:04\"\n",
    "\n",
    "trains[1].expected_time ➞ \"14:20\"\n",
    "\n",
    "trains[2].expected_time ➞ \"14:22\""
   ]
  },
  {
   "cell_type": "code",
   "execution_count": 3,
   "id": "85eb4f16",
   "metadata": {},
   "outputs": [
    {
     "name": "stdout",
     "output_type": "stream",
     "text": [
      "13:04\n",
      "14:20\n",
      "14:22\n"
     ]
    }
   ],
   "source": [
    "class Train:\n",
    "    def __init__(self, destinations, exp_time):\n",
    "        self.destinations = destinations\n",
    "        self.exp_time = exp_time\n",
    "\n",
    "def manage_delays(t, dest, time):\n",
    "    if dest in t.destinations:\n",
    "        delay_time = [eval(n) for n in t.exp_time.split(\":\")]\n",
    "        delay_time[1]=(delay_time[1]+time)%60\n",
    "        delay_time[0]+=(delay_time[1]+time)//60\n",
    "        delay_time = [str(n) for n in delay_time]\n",
    "        return ':'.join(delay_time)\n",
    "    else:\n",
    "        return t.exp_time\n",
    "\n",
    "trains = [\n",
    "  Train([\"Townsville\", \"Suburbia\", \"Urbantska\"], \"13:04\"),\n",
    "  Train([\"Farmsdale\", \"Suburbia\", \"Lakeside Valley\"], \"13:20\"),\n",
    "  Train([\"Suburbia\", \"Townsville\", \"Lakeside Valley\"], \"13:22\")\n",
    "]\n",
    "\n",
    "for t in trains:\n",
    "    print(manage_delays(t, \"Lakeside Valley\", 60))"
   ]
  },
  {
   "cell_type": "markdown",
   "id": "c6bc5560",
   "metadata": {},
   "source": [
    "## 4. Write a program to find if the Minecart reaches the last peice of Track or not. If not, return the index value of the track wherever the Minecart stops."
   ]
  },
  {
   "cell_type": "markdown",
   "id": "61097e9f",
   "metadata": {},
   "source": [
    "4. Ted works as a computer programmer at Minecraft Inc. His boss has just given him an important assignment to update the code for the minecart tracks by the end of April. However, he has recently had to self-isolate due to Corvid-19 and has left the code for the tracks BACK AT WORK!! He has the shorthand for the tracks he's supposed to look at, and where the carts are suppost to end up, but not the actual code.\n",
    "\n",
    "He knows that:\n",
    "\n",
    "  1. \"-->\" = \"Speed-Up Track\" ⁠— If a minecart interacts with this track, it's velocity increases by 2.67 BPS unless it's at its maximum speed of 8 BPS.\n",
    "  2. \"<-->\" = \"Powered Track\" ⁠— If a minecart interacts with this track, it's velocity remains the same.\n",
    "  3. \"<--\" = \"Slow-Down Track\" ⁠— If a minecart interacts with this track, it's velocity decreases by 2.67 BPS unless it's velocity equals 0, at which point it stops.\n",
    "  4. \"---\" = \"Unpowered Track\" ⁠— If a minecart interacts with this track, it's velocity decreases by 1 BPS unless it's velocity equals 0, at which point it stops.\n",
    "\n",
    " Help Ted by writing a class for the tracks that interact with the provided Minecart class as shown above. And then write a function that will take a list of the shorthand tracks and:\n",
    "\n",
    "   - If the Minecart reaches the last peice of Track, return True.\n",
    "   - Else return the index of the Track where the Minecart stops.\n",
    "\n",
    "Examples\n",
    "\n",
    "mine_run([\"-->\", \"-->\", \"-->\", \"<--\", \"<--\", \"<--\"]) ➞ True\n",
    "\n",
    "mine_run([\"-->\", \"<--\", \"-->\", \"-->\", \"<-->\", \"---\"]) ➞ 1"
   ]
  },
  {
   "cell_type": "code",
   "execution_count": 4,
   "id": "d6671877",
   "metadata": {},
   "outputs": [
    {
     "name": "stdout",
     "output_type": "stream",
     "text": [
      "True\n",
      "1\n"
     ]
    }
   ],
   "source": [
    "# Since the entire logic can be return in a single function:\n",
    "def mine_run(lst):\n",
    "    res = 0\n",
    "    track = 0\n",
    "    for i in lst:\n",
    "        track+=1\n",
    "        if i==\"-->\":\n",
    "            res+=2.67\n",
    "            if res>8:\n",
    "                res = 8\n",
    "        elif i==\"<-->\":\n",
    "            pass\n",
    "        elif i == \"<--\":\n",
    "            res-=2.67\n",
    "            if res<=0:\n",
    "                res=0\n",
    "                if track<len(lst):\n",
    "                    return track-1 # since we want the index value\n",
    "        elif i == \"---\":\n",
    "            res-=1\n",
    "            if res<=0:\n",
    "                res=0\n",
    "                if track<len(lst):\n",
    "                    return track-1 # since we want the index value\n",
    "    return True\n",
    "\n",
    "print(mine_run([\"-->\", \"-->\", \"-->\", \"<--\", \"<--\", \"<--\"]))\n",
    "\n",
    "print(mine_run([\"-->\", \"<--\", \"-->\", \"-->\", \"<-->\", \"---\"]))"
   ]
  },
  {
   "cell_type": "markdown",
   "id": "f531545e",
   "metadata": {},
   "source": [
    "## 5. Check if the given rectangles are intersecting or not."
   ]
  },
  {
   "cell_type": "markdown",
   "id": "4cc2cd9f",
   "metadata": {},
   "source": [
    "5. Make a Rectangle class with four parameters, an x, a y (representing the top-left corner of the rectangle), a width and a height exclusively in that order.\n",
    "\n",
    "Lastly, make a function intersecting that takes two Rectangle objects and returns True if those objects are intersecting (colliding), else return False.\n",
    "\n",
    "Examples\n",
    "\n",
    "a = Rectangle(10, 20, 100, 20)\n",
    "b = Rectangle(10, 40, 15, 20)\n",
    "c = Rectangle(50, 50, 20, 30)\n",
    "\n",
    "intersecting(a, b) ➞ True\n",
    "\n",
    "intersecting(a, c) ➞ False\n",
    "\n",
    "intersecting(b, c) ➞ True"
   ]
  },
  {
   "cell_type": "code",
   "execution_count": 5,
   "id": "05287bf8",
   "metadata": {},
   "outputs": [
    {
     "name": "stdout",
     "output_type": "stream",
     "text": [
      "True\n",
      "False\n",
      "False\n"
     ]
    }
   ],
   "source": [
    "class Rectangle:\n",
    "    def __init__(self,x,y,a,b):\n",
    "        self.x1 = x\n",
    "        self.y1 = y\n",
    "        self.x2 = x+a\n",
    "        self.y2 = y+b\n",
    "\n",
    "        \n",
    "def intersecting(r1, r2):\n",
    "#     print(f\"r1 coordinates: {(r1.x1,r1.y1)}, {(r1.x2, r1.y1)}, {(r1.x2, r1.y2)}, {(r1.x1,r1.y2)}\")\n",
    "#     print(f\"r2 coordinates: {(r2.x1,r2.y1)}, {(r2.x2, r2.y1)}, {(r2.x2, r2.y2)}, {(r2.x1,r2.y2)}\")\n",
    "    # since all the angles are 90 degrees, horizontal lines should intersect with vertical and vice-versa\n",
    "    if r1.x1<=r2.x1<=r1.x2 or r1.x1<=r2.x2<=r1.x2:\n",
    "        if r1.y1<=r2.y1<=r1.y2 or r1.y1<=r2.y2<=r1.y2:\n",
    "            return True\n",
    "    return False\n",
    "\n",
    "a = Rectangle(10, 20, 100, 20)\n",
    "b = Rectangle(10, 40, 15, 20)\n",
    "c = Rectangle(50, 50, 20, 30)\n",
    "\n",
    "print(intersecting(a, b))\n",
    "\n",
    "print(intersecting(a, c))\n",
    "\n",
    "print(intersecting(b, c)) # b & c are not intersecting, double checked it with actual graphs also.(but, in the question, it is returning True)"
   ]
  }
 ],
 "metadata": {
  "kernelspec": {
   "display_name": "Python 3 (ipykernel)",
   "language": "python",
   "name": "python3"
  },
  "language_info": {
   "codemirror_mode": {
    "name": "ipython",
    "version": 3
   },
   "file_extension": ".py",
   "mimetype": "text/x-python",
   "name": "python",
   "nbconvert_exporter": "python",
   "pygments_lexer": "ipython3",
   "version": "3.8.11"
  }
 },
 "nbformat": 4,
 "nbformat_minor": 5
}
