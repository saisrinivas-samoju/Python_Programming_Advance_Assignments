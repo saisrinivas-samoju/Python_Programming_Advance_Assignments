{
 "cells": [
  {
   "cell_type": "markdown",
   "id": "2864d465",
   "metadata": {},
   "source": [
    "## 1. Create a checker board generator according to the given conditions."
   ]
  },
  {
   "cell_type": "markdown",
   "id": "6b5d95a5",
   "metadata": {},
   "source": [
    "1. Create a checker board generator, which takes as inputs n and 2 elements to generate an n x n checkerboard with those two elements as alternating squares.\n",
    "\n",
    "Examples\n",
    "\n",
    "checker_board(2, 7, 6) ➞ [\n",
    "  [7, 6],\n",
    "  [6, 7]\n",
    "]\n",
    "\n",
    "checker_board(3, \"A\", \"B\") ➞ [\n",
    "  [\"A\", \"B\", \"A\"],\n",
    "  [\"B\", \"A\", \"B\"],\n",
    "  [\"A\", \"B\", \"A\"]\n",
    "]\n",
    "\n",
    "checker_board(4, \"c\", \"d\") ➞ [\n",
    "  [\"c\", \"d\", \"c\", \"d\"],\n",
    "  [\"d\", \"c\", \"d\", \"c\"],\n",
    "  [\"c\", \"d\", \"c\", \"d\"],\n",
    "  [\"d\", \"c\", \"d\", \"c\"]\n",
    "]\n",
    "\n",
    "checker_board(4, \"c\", \"c\") ➞ \"invalid\""
   ]
  },
  {
   "cell_type": "code",
   "execution_count": 1,
   "id": "93864acb",
   "metadata": {},
   "outputs": [
    {
     "name": "stdout",
     "output_type": "stream",
     "text": [
      "[[7, 6], [6, 7]]\n",
      "[['A', 'B', 'A'], ['B', 'A', 'B'], ['A', 'B', 'A']]\n",
      "[['c', 'd', 'c', 'd'], ['d', 'c', 'd', 'c'], ['c', 'd', 'c', 'd'], ['d', 'c', 'd', 'c']]\n",
      "[['c', 'c', 'c', 'c'], ['c', 'c', 'c', 'c'], ['c', 'c', 'c', 'c'], ['c', 'c', 'c', 'c']]\n"
     ]
    }
   ],
   "source": [
    "def checker_board(n, a, b):\n",
    "    res = []\n",
    "    for i in range(n):\n",
    "        temp=[]\n",
    "        for j in range(n):\n",
    "            if i%2==0:\n",
    "                if j%2==0:\n",
    "                    temp.append(a)\n",
    "                else:\n",
    "                    temp.append(b)\n",
    "            else:\n",
    "                if j%2==0:\n",
    "                    temp.append(b)\n",
    "                else:\n",
    "                    temp.append(a)\n",
    "        res.append(temp)\n",
    "    return res\n",
    "\n",
    "print(checker_board(2, 7, 6))\n",
    "print(checker_board(3, \"A\", \"B\"))\n",
    "print(checker_board(4, \"c\", \"d\"))\n",
    "print(checker_board(4, \"c\", \"c\"))"
   ]
  },
  {
   "cell_type": "markdown",
   "id": "7dcd63d0",
   "metadata": {},
   "source": [
    "## 2. Check if the given string is almost a palindrome according to the given conditions."
   ]
  },
  {
   "cell_type": "markdown",
   "id": "d9c17bf3",
   "metadata": {},
   "source": [
    "2. A string is an almost-palindrome if, by changing only one character, you can make it a palindrome. Create a function that returns True if a string is an almost-palindrome and False otherwise.\n",
    "\n",
    "Examples\n",
    "\n",
    "almost_palindrome(\"abcdcbg\") ➞ True\n",
    " Transformed to \"abcdcba\" by changing \"g\" to \"a\".\n",
    "\n",
    "almost_palindrome(\"abccia\") ➞ True\n",
    " Transformed to \"abccba\" by changing \"i\" to \"b\".\n",
    "\n",
    "almost_palindrome(\"abcdaaa\") ➞ False\n",
    " Can't be transformed to a palindrome in exactly 1 turn.\n",
    "\n",
    "almost_palindrome(\"1234312\") ➞ False"
   ]
  },
  {
   "cell_type": "code",
   "execution_count": 2,
   "id": "5d207d21",
   "metadata": {},
   "outputs": [
    {
     "name": "stdout",
     "output_type": "stream",
     "text": [
      "True\n",
      "True\n",
      "False\n",
      "False\n"
     ]
    }
   ],
   "source": [
    "def almost_palindrome(text):\n",
    "    val = 0\n",
    "    pos = len(text)//2\n",
    "    if len(text)%2!=0:\n",
    "        a = text[:pos]\n",
    "        b = text[:pos:-1]\n",
    "    else:\n",
    "        a = text[:pos]\n",
    "        b = text[:pos-1:-1]\n",
    "    for i in range(len(a)):\n",
    "        if a[i]!=b[i]:\n",
    "            val+=1\n",
    "    return val==1\n",
    "\n",
    "print(almost_palindrome(\"abcdcbg\"))\n",
    "print(almost_palindrome(\"abccia\"))\n",
    "print(almost_palindrome(\"abcdaaa\"))\n",
    "print(almost_palindrome(\"1234312\"))"
   ]
  },
  {
   "cell_type": "markdown",
   "id": "4cb8159e",
   "metadata": {},
   "source": [
    "## 3. Find how many prime numbers are there upto the given number."
   ]
  },
  {
   "cell_type": "markdown",
   "id": "93232590",
   "metadata": {},
   "source": [
    "3. Create a function that finds how many prime numbers there are, up to the given integer.\n",
    "\n",
    "Examples\n",
    "\n",
    "prime_numbers(10) ➞ 4\n",
    " 2, 3, 5 and 7\n",
    "\n",
    "prime_numbers(20) ➞ 8\n",
    " 2, 3, 5, 7, 11, 13, 17 and 19\n",
    "\n",
    "prime_numbers(30) ➞ 10\n",
    " 2, 3, 5, 7, 11, 13, 17, 19, 23 and 29"
   ]
  },
  {
   "cell_type": "code",
   "execution_count": 3,
   "id": "20ea04c4",
   "metadata": {},
   "outputs": [
    {
     "name": "stdout",
     "output_type": "stream",
     "text": [
      "4\n",
      "8\n",
      "10\n"
     ]
    }
   ],
   "source": [
    "def prime_numbers(n):\n",
    "    primes = [2]\n",
    "    for i in range(3,n,2):\n",
    "        for j in range(2,i):\n",
    "            if i%j==0:\n",
    "                break\n",
    "        else:\n",
    "            primes.append(i)\n",
    "    return len(primes)\n",
    "\n",
    "print(prime_numbers(10))\n",
    "print(prime_numbers(20))\n",
    "print(prime_numbers(30))"
   ]
  },
  {
   "cell_type": "markdown",
   "id": "d4261336",
   "metadata": {},
   "source": [
    "## 4. Find the resultant day when given n number of days are added to the given day."
   ]
  },
  {
   "cell_type": "markdown",
   "id": "2e5e6897",
   "metadata": {},
   "source": [
    "4. If today was Monday, in two days, it would be Wednesday.\n",
    "\n",
    "Create a function that takes in a list of days as input and the number of days to increment by. Return a list of days after n number of days has passed.\n",
    "\n",
    "Examples\n",
    "\n",
    "after_n_days([\"Thursday\", \"Monday\"], 4) ➞ [\"Monday\", \"Friday\"]\n",
    "\n",
    "after_n_days([\"Sunday\", \"Sunday\", \"Sunday\"], 1) ➞ [\"Monday\", \"Monday\", \"Monday\"]\n",
    "\n",
    "after_n_days([\"Monday\", \"Tuesday\", \"Friday\"], 1) ➞ [\"Tuesday\", \"Wednesday\", \"Saturday\"]"
   ]
  },
  {
   "cell_type": "code",
   "execution_count": 4,
   "id": "5353a651",
   "metadata": {},
   "outputs": [
    {
     "name": "stdout",
     "output_type": "stream",
     "text": [
      "['Monday', 'Friday']\n",
      "['Monday', 'Monday', 'Monday']\n",
      "['Tuesday', 'Wednesday', 'Saturday']\n"
     ]
    }
   ],
   "source": [
    "def after_n_days(lst, n):\n",
    "    days = {'Sunday':0, 'Monday':1, 'Tuesday':2, 'Wednesday':3, 'Thursday':4, 'Friday':5, 'Saturday':6}\n",
    "    res = []\n",
    "    for day in lst:\n",
    "        val = days[day] + n\n",
    "        val = val%7\n",
    "        for k, v in days.items():\n",
    "            if v==val:\n",
    "                res.append(k)\n",
    "    return res\n",
    "\n",
    "print(after_n_days([\"Thursday\", \"Monday\"], 4))\n",
    "print(after_n_days([\"Sunday\", \"Sunday\", \"Sunday\"], 1))\n",
    "print(after_n_days([\"Monday\", \"Tuesday\", \"Friday\"], 1))"
   ]
  },
  {
   "cell_type": "markdown",
   "id": "9ab7d82d",
   "metadata": {},
   "source": [
    "## 5. Check if the anonymous name generated statisifies the given condition."
   ]
  },
  {
   "cell_type": "markdown",
   "id": "ada33f4a",
   "metadata": {},
   "source": [
    "5. You are in the process of creating a chat application and want to add an anonymous name feature. This anonymous name feature will create an alias that consists of two capitalized words beginning with the same letter as the users first name.\n",
    "\n",
    "Create a function that determines if the list of users is mapped to a list of anonymous names correctly.\n",
    "\n",
    "Examples\n",
    "\n",
    "is_correct_aliases([\"Adrian M.\", \"Harriet S.\", \"Mandy T.\"], [\"Amazing Artichoke\", \"Hopeful Hedgehog\", \"Marvelous Mouse\"]) ➞ True\n",
    "\n",
    "is_correct_aliases([\"Rachel F.\", \"Pam G.\", \"Fred Z.\", \"Nancy K.\"], [\"Reassuring Rat\", \"Peaceful Panda\", \"Fantastic Frog\", \"Notable Nickel\"]) ➞ True\n",
    "\n",
    "is_correct_aliases([\"Beth T.\"], [\"Brandishing Mimosa\"]) ➞ False\n",
    " Both words in \"Brandishing Mimosa\" should begin with a \"B\" - \"Brandishing Beaver\" would do the trick."
   ]
  },
  {
   "cell_type": "code",
   "execution_count": 5,
   "id": "824ac659",
   "metadata": {},
   "outputs": [
    {
     "name": "stdout",
     "output_type": "stream",
     "text": [
      "True\n",
      "True\n",
      "False\n"
     ]
    }
   ],
   "source": [
    "def is_correct_aliases(names, aliases):\n",
    "    for i in range(len(names)):\n",
    "        first_letter = names[i][0]\n",
    "        for j in aliases[i].split():\n",
    "            if j[0]!=first_letter:\n",
    "                return False\n",
    "    return True\n",
    "\n",
    "print(is_correct_aliases([\"Adrian M.\", \"Harriet S.\", \"Mandy T.\"], [\"Amazing Artichoke\", \"Hopeful Hedgehog\", \"Marvelous Mouse\"]))\n",
    "print(is_correct_aliases([\"Rachel F.\", \"Pam G.\", \"Fred Z.\", \"Nancy K.\"], [\"Reassuring Rat\", \"Peaceful Panda\", \"Fantastic Frog\", \"Notable Nickel\"]))\n",
    "print(is_correct_aliases([\"Beth T.\"], [\"Brandishing Mimosa\"]))"
   ]
  }
 ],
 "metadata": {
  "kernelspec": {
   "display_name": "Python 3 (ipykernel)",
   "language": "python",
   "name": "python3"
  },
  "language_info": {
   "codemirror_mode": {
    "name": "ipython",
    "version": 3
   },
   "file_extension": ".py",
   "mimetype": "text/x-python",
   "name": "python",
   "nbconvert_exporter": "python",
   "pygments_lexer": "ipython3",
   "version": "3.8.11"
  }
 },
 "nbformat": 4,
 "nbformat_minor": 5
}
