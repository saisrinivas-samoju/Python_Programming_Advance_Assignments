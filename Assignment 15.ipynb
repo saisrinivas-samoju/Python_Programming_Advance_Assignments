{
 "cells": [
  {
   "cell_type": "markdown",
   "id": "87a60692",
   "metadata": {},
   "source": [
    "## 1. Write a function that returns True if a given name can generate an array of words."
   ]
  },
  {
   "cell_type": "markdown",
   "id": "32a842de",
   "metadata": {},
   "source": [
    "1. Write a function that returns True if a given name can generate an array of words.\n",
    "\n",
    "Examples\n",
    "\n",
    "anagram(\"Justin Bieber\", [\"injures\", \"ebb\", \"it\"]) ➞ True\n",
    "\n",
    "anagram(\"Natalie Portman\", [\"ornamental\", \"pita\"]) ➞ True\n",
    "\n",
    "anagram(\"Chris Pratt\", [\"chirps\", \"rat\"]) ➞ False\n",
    " Not all letters are used\n",
    "\n",
    "anagram(\"Jeff Goldblum\", [\"jog\", \"meld\", \"bluffs\"]) ➞ False\n",
    " \"s\" does not exist in the original name"
   ]
  },
  {
   "cell_type": "code",
   "execution_count": 1,
   "id": "02c7cd15",
   "metadata": {},
   "outputs": [
    {
     "name": "stdout",
     "output_type": "stream",
     "text": [
      "True\n",
      "True\n",
      "False\n",
      "False\n"
     ]
    }
   ],
   "source": [
    "def anagram(text, lst):\n",
    "    name = ''.join(lst)\n",
    "    name = sorted(name.lower())\n",
    "    text = ''.join(text.split())\n",
    "    text = sorted(text.lower())\n",
    "    if name!=text:\n",
    "        return False\n",
    "    else:\n",
    "        return True\n",
    "\n",
    "print(anagram(\"Justin Bieber\", [\"injures\", \"ebb\", \"it\"]))\n",
    "print(anagram(\"Natalie Portman\", [\"ornamental\", \"pita\"]))\n",
    "print(anagram(\"Chris Pratt\", [\"chirps\", \"rat\"]))\n",
    "print(anagram(\"Jeff Goldblum\", [\"jog\", \"meld\", \"bluffs\"]))"
   ]
  },
  {
   "cell_type": "markdown",
   "id": "deb10b34",
   "metadata": {},
   "source": [
    "## 2. Arrange the leaderboard according to the given conditions."
   ]
  },
  {
   "cell_type": "markdown",
   "id": "0979153c",
   "metadata": {},
   "source": [
    "2. Given an array of users, each defined by an object with the following properties: name, score, reputation create a function that sorts the array to form the correct leaderboard.\n",
    "\n",
    "The leaderboard takes into consideration the score of each user of course, but an emphasis is put on their reputation in the community, so to get the trueScore, you should add the reputation multiplied by 2 to the score.\n",
    "\n",
    "Once you know the trueScore of each user, sort the array according to it in descending order.\n",
    "\n",
    "Examples\n",
    "\n",
    "leaderboards([\n",
    "  { \"name\": \"a\", \"score\": 100, \"reputation\": 20 },\n",
    "  { \"name\": \"b\", \"score\": 90, \"reputation\": 40 },\n",
    "  { \"name\": \"c\", \"score\": 115, \"reputation\": 30 },\n",
    "]) ➞ [\n",
    "  { \"name\": \"c\", \"score\": 115, \"reputation\": 30 },  # trueScore = 175\n",
    "  { \"name\": \"b\", \"score\": 90, \"reputation\": 40 },   # trueScore = 170\n",
    "  { \"name\": \"a\", \"score\": 100, \"reputation\": 20 }   # trueScore = 140\n",
    "]"
   ]
  },
  {
   "cell_type": "code",
   "execution_count": 2,
   "id": "158ba25a",
   "metadata": {},
   "outputs": [
    {
     "data": {
      "text/plain": [
       "[{'name': 'c', 'score': 115, 'reputation': 30},\n",
       " {'name': 'b', 'score': 90, 'reputation': 40},\n",
       " {'name': 'a', 'score': 100, 'reputation': 20}]"
      ]
     },
     "execution_count": 2,
     "metadata": {},
     "output_type": "execute_result"
    }
   ],
   "source": [
    "def leaderboards(lst):\n",
    "    res=[]\n",
    "    temp = {}\n",
    "    for user in lst:\n",
    "        value = user['score'] + (2*user['reputation'])\n",
    "        temp[value]=user\n",
    "    \n",
    "    for value in sorted(temp.keys(), reverse = True):\n",
    "        res.append(temp[value])\n",
    "    \n",
    "    return res\n",
    "\n",
    "leaderboards([\n",
    "  { \"name\": \"a\", \"score\": 100, \"reputation\": 20 },\n",
    "  { \"name\": \"b\", \"score\": 90, \"reputation\": 40 },\n",
    "  { \"name\": \"c\", \"score\": 115, \"reputation\": 30 },\n",
    "])"
   ]
  },
  {
   "cell_type": "markdown",
   "id": "7ec24160",
   "metadata": {},
   "source": [
    "## 3. Return the string with the correctly guessed letters in the given text."
   ]
  },
  {
   "cell_type": "markdown",
   "id": "127ddcde",
   "metadata": {},
   "source": [
    "3. Create a function that, given a phrase and a number of letters guessed, returns a string with hyphens - for every letter of the phrase not guessed, and each letter guessed in place.\n",
    "\n",
    "Examples\n",
    "\n",
    "hangman(\"helicopter\", [\"o\", \"e\", \"s\"]) ➞ \"-e---o--e-\"\n",
    "\n",
    "hangman(\"tree\", [\"r\", \"t\", \"e\"]) ➞ \"tree\"\n",
    "\n",
    "hangman(\"Python rules\", [\"a\", \"n\", \"p\", \"r\", \"z\"]) ➞ \"P----n r----\"\n",
    "\n",
    "hangman(\"He's a very naughty boy!\", [\"e\", \"a\", \"y\"]) ➞ \"-e'- a -e-y -a----y –y!\""
   ]
  },
  {
   "cell_type": "code",
   "execution_count": 3,
   "id": "bf1a352e",
   "metadata": {
    "scrolled": true
   },
   "outputs": [
    {
     "name": "stdout",
     "output_type": "stream",
     "text": [
      "-e---o--e-\n",
      "tree\n",
      "P----n r----\n",
      "-e'- a -e-y -a----y --y!\n"
     ]
    }
   ],
   "source": [
    "def hangman(text, lst):\n",
    "    res = ''\n",
    "    for word in text:\n",
    "        if word.lower() in lst:\n",
    "            res += word\n",
    "        # Since, it is mentioned that for every LETTER not guessed\n",
    "        elif not word.isalpha():\n",
    "            res += word\n",
    "        else:\n",
    "            res += '-'\n",
    "    return res\n",
    "\n",
    "print(hangman(\"helicopter\", [\"o\", \"e\", \"s\"]))\n",
    "print(hangman(\"tree\", [\"r\", \"t\", \"e\"]))\n",
    "print(hangman(\"Python rules\", [\"a\", \"n\", \"p\", \"r\", \"z\"]))\n",
    "print(hangman(\"He's a very naughty boy!\", [\"e\", \"a\", \"y\"]))"
   ]
  },
  {
   "cell_type": "markdown",
   "id": "46c120cc",
   "metadata": {},
   "source": [
    "## 4. Find the maximum value in the Collatz sequence generated by the given number"
   ]
  },
  {
   "cell_type": "markdown",
   "id": "7e51c618",
   "metadata": {},
   "source": [
    "4. The Collatz sequence is as follows:\n",
    "\n",
    "  - Start with some given integer n.\n",
    "  - If it is even, the next number will be n divided by 2.\n",
    "  - If it is odd, multiply it by 3 and add 1 to make the next number.\n",
    "  - The sequence stops when it reaches 1.\n",
    "\n",
    "According to the Collatz conjecture, it will always reach 1. If that's true, you can construct a finite sequence following the aforementioned method for any given integer.\n",
    "\n",
    "Write a function that takes in an integer n and returns the highest integer in the corresponding Collatz sequence.\n",
    "\n",
    "Examples\n",
    "\n",
    "max_collatz(10) ➞ 16\n",
    " Collatz sequence: 10, 5, 16, 8, 4, 2, 1\n",
    "\n",
    "max_collatz(32) ➞ 32\n",
    " Collatz sequence: 32, 16, 8, 4, 2, 1\n",
    "\n",
    "max_collatz(85) ➞ 256\n",
    " Collatz sequence: 85, 256, 128, 64, 32, 16, 8, 4, 2, 1"
   ]
  },
  {
   "cell_type": "code",
   "execution_count": 4,
   "id": "e6103c4d",
   "metadata": {},
   "outputs": [
    {
     "name": "stdout",
     "output_type": "stream",
     "text": [
      "16\n",
      "32\n",
      "256\n"
     ]
    }
   ],
   "source": [
    "def max_collatz(n):\n",
    "    res = [n]\n",
    "    i = res[-1]\n",
    "    \n",
    "    while i!=1:\n",
    "        if i%2==0:\n",
    "            i = int(i/2)\n",
    "            res.append(i)\n",
    "        else:\n",
    "            i = (i*3) + 1\n",
    "            res.append(i)\n",
    "    \n",
    "    return max(res)\n",
    "\n",
    "\n",
    "print(max_collatz(10))\n",
    "print(max_collatz(32))\n",
    "print(max_collatz(85))"
   ]
  },
  {
   "cell_type": "markdown",
   "id": "954200fb",
   "metadata": {},
   "source": [
    "## 5. Sorted the given list of integers according to the given conditions."
   ]
  },
  {
   "cell_type": "markdown",
   "id": "e50abba4",
   "metadata": {},
   "source": [
    "5. Write a function that sorts a list of integers by their digit length in descending order, then settles ties by sorting numbers with the same digit length in ascending order.\n",
    "\n",
    "Examples\n",
    "\n",
    "digit_sort([77, 23, 5, 7, 101])\n",
    "➞ [101, 23, 77, 5, 7]\n",
    "\n",
    "digit_sort([1, 5, 9, 2, 789, 563, 444])\n",
    "➞ [444, 563, 789, 1, 2, 5, 9]\n",
    "\n",
    "digit_sort([53219, 3772, 564, 32, 1])\n",
    "➞ [53219, 3772, 564, 32, 1]"
   ]
  },
  {
   "cell_type": "code",
   "execution_count": 5,
   "id": "80ce6f6d",
   "metadata": {},
   "outputs": [
    {
     "name": "stdout",
     "output_type": "stream",
     "text": [
      "[101, 23, 77, 5, 7]\n",
      "[444, 563, 789, 1, 2, 5, 9]\n",
      "[53219, 3772, 564, 32, 1]\n"
     ]
    }
   ],
   "source": [
    "def digit_sort(lst):\n",
    "    temp = {}\n",
    "    res = []\n",
    "    \n",
    "    for num in lst:\n",
    "        temp[len(str(num))]=[]\n",
    "        \n",
    "    for k, v in temp.items():\n",
    "        for num in lst:\n",
    "            if len(str(num))==k:\n",
    "                v.append(num)\n",
    "                \n",
    "    for key in sorted(temp.keys(), reverse = True):\n",
    "        for num in sorted(temp[key]):\n",
    "            res.append(num)\n",
    "            \n",
    "    return res\n",
    "\n",
    "\n",
    "print(digit_sort([77, 23, 5, 7, 101]))\n",
    "print(digit_sort([1, 5, 9, 2, 789, 563, 444]))\n",
    "print(digit_sort([53219, 3772, 564, 32, 1]))"
   ]
  }
 ],
 "metadata": {
  "kernelspec": {
   "display_name": "Python 3 (ipykernel)",
   "language": "python",
   "name": "python3"
  },
  "language_info": {
   "codemirror_mode": {
    "name": "ipython",
    "version": 3
   },
   "file_extension": ".py",
   "mimetype": "text/x-python",
   "name": "python",
   "nbconvert_exporter": "python",
   "pygments_lexer": "ipython3",
   "version": "3.8.11"
  }
 },
 "nbformat": 4,
 "nbformat_minor": 5
}
