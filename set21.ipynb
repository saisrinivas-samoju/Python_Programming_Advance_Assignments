{
 "cells": [
  {
   "cell_type": "markdown",
   "id": "67b4d9a7",
   "metadata": {},
   "source": [
    "## 1. Given a sentence, return the number of words which have the same first and last letter."
   ]
  },
  {
   "cell_type": "markdown",
   "id": "18e9e78a",
   "metadata": {},
   "source": [
    "1. Given a sentence, return the number of words which have the same first and last letter.\n",
    "\n",
    "Examples\n",
    "\n",
    "count_same_ends(\"Pop! goes the balloon\") ➞ 1\n",
    "\n",
    "count_same_ends(\"And the crowd goes wild!\") ➞ 0\n",
    "\n",
    "count_same_ends(\"No I am not in a gang.\") ➞ 1"
   ]
  },
  {
   "cell_type": "code",
   "execution_count": 1,
   "id": "59fa4681",
   "metadata": {},
   "outputs": [
    {
     "name": "stdout",
     "output_type": "stream",
     "text": [
      "1\n",
      "0\n",
      "1\n"
     ]
    }
   ],
   "source": [
    "def count_same_ends(text):\n",
    "    res = 0\n",
    "    text = [''.join([char.lower() for char in word if char.isalpha()]) for word in text.split()]\n",
    "    for word in text:\n",
    "        if len(word)>1:\n",
    "            if word[0]==word[-1]:\n",
    "                res+=1\n",
    "    return res\n",
    "\n",
    "print(count_same_ends(\"Pop! goes the balloon\"))\n",
    "print(count_same_ends(\"And the crowd goes wild!\"))\n",
    "print(count_same_ends(\"No I am not in a gang.\"))"
   ]
  },
  {
   "cell_type": "markdown",
   "id": "48057efb",
   "metadata": {},
   "source": [
    "## 2. The Atbash cipher is an encryption method in which each letter of a word is replaced with its \"mirror\" letter in the alphabet: A <=> Z; B <=> Y; C <=> X; etc."
   ]
  },
  {
   "cell_type": "markdown",
   "id": "ee29ea8f",
   "metadata": {},
   "source": [
    "2. The Atbash cipher is an encryption method in which each letter of a word is replaced with its \"mirror\" letter in the alphabet: A <=> Z; B <=> Y; C <=> X; etc.\n",
    "\n",
    "Create a function that takes a string and applies the Atbash cipher to it.\n",
    "\n",
    "Examples\n",
    "\n",
    "atbash(\"apple\") ➞ \"zkkov\"\n",
    "\n",
    "atbash(\"Hello world!\") ➞ \"Svool dliow!\"\n",
    "\n",
    "atbash(\"Christmas is the 25th of December\") ➞ \"Xsirhgnzh rh gsv 25gs lu Wvxvnyvi\""
   ]
  },
  {
   "cell_type": "code",
   "execution_count": 2,
   "id": "61be5946",
   "metadata": {},
   "outputs": [
    {
     "name": "stdout",
     "output_type": "stream",
     "text": [
      "zkkov\n",
      "Svool dliow!\n",
      "Xsirhgnzh rh gsv 25gs lu Wvxvnyvi\n"
     ]
    }
   ],
   "source": [
    "import string\n",
    "\n",
    "def atbash(text):\n",
    "    d = {}\n",
    "    res=''\n",
    "    lower = string.ascii_lowercase\n",
    "    rev_lower = string.ascii_lowercase[::-1]\n",
    "    upper = string.ascii_uppercase\n",
    "    rev_upper = string.ascii_uppercase[::-1]\n",
    "    for i in range(len(lower)):\n",
    "        d[lower[i]]=rev_lower[i]\n",
    "        d[upper[i]] = rev_upper[i]\n",
    "    \n",
    "    for letter in text:\n",
    "        if letter.isalpha():\n",
    "            res+=d[letter]\n",
    "        else:\n",
    "            res+=letter\n",
    "    \n",
    "    return res\n",
    "\n",
    "print(atbash(\"apple\"))\n",
    "print(atbash(\"Hello world!\"))\n",
    "print(atbash(\"Christmas is the 25th of December\"))"
   ]
  },
  {
   "cell_type": "markdown",
   "id": "261774ea",
   "metadata": {},
   "source": [
    "## 3. Create an Employee class with name and other keyword arguments(if any)."
   ]
  },
  {
   "cell_type": "markdown",
   "id": "9b93983b",
   "metadata": {},
   "source": [
    "3. Create a class Employee that will take a full name as argument, as well as a set of none, one or more keywords. Each instance should have a name and a lastname attributes plus one more attribute for each of the keywords, if any.\n",
    "\n",
    "Examples\n",
    "\n",
    "john = Employee(\"John Doe\")\n",
    "mary = Employee(\"Mary Major\", salary=120000)\n",
    "richard = Employee(\"Richard Roe\", salary=110000, height=178)\n",
    "giancarlo = Employee(\"Giancarlo Rossi\", salary=115000, height=182, nationality=\"Italian\")\n",
    "\n",
    "john.name ➞ \"John\"\n",
    "mary.lastname ➞ \"Major\"\n",
    "richard.height ➞ 178\n",
    "giancarlo.nationality ➞ \"Italian\""
   ]
  },
  {
   "cell_type": "code",
   "execution_count": 3,
   "id": "7bd674ca",
   "metadata": {},
   "outputs": [
    {
     "name": "stdout",
     "output_type": "stream",
     "text": [
      "John\n",
      "Major\n",
      "178\n",
      "Italian\n"
     ]
    }
   ],
   "source": [
    "class Employee:\n",
    "    def __init__(self, name, **kwargs):\n",
    "        self.name = name.split()[0]\n",
    "        self.lastname = name.split()[1]\n",
    "        for k, v in kwargs.items():\n",
    "            self.__setattr__(k, v)\n",
    "\n",
    "\n",
    "john = Employee(\"John Doe\")\n",
    "mary = Employee(\"Mary Major\", salary=120000)\n",
    "richard = Employee(\"Richard Roe\", salary=110000, height=178)\n",
    "giancarlo = Employee(\"Giancarlo Rossi\", salary=115000, height=182, nationality=\"Italian\")\n",
    "print(john.name)\n",
    "print(mary.lastname)\n",
    "print(richard.height)\n",
    "print(giancarlo.nationality)"
   ]
  },
  {
   "cell_type": "markdown",
   "id": "ede47e71",
   "metadata": {},
   "source": [
    "## 4. Create a function that determines whether each seat can \"see\" the front-stage based on the given matrix."
   ]
  },
  {
   "cell_type": "markdown",
   "id": "bf63faab",
   "metadata": {},
   "source": [
    "4. Create a function that determines whether each seat can \"see\" the front-stage. A number can \"see\" the front-stage if it is strictly greater than the number before it.\n",
    "\n",
    "Everyone can see the front-stage in the example below:\n",
    "\n",
    " FRONT STAGE\n",
    "[[1, 2, 3, 2, 1, 1],\n",
    "[2, 4, 4, 3, 2, 2],\n",
    "[5, 5, 5, 5, 4, 4],\n",
    "[6, 6, 7, 6, 5, 5]]\n",
    "\n",
    " Starting from the left, the 6 > 5 > 2 > 1, so all numbers can see.\n",
    " 6 > 5 > 4 > 2 - so all numbers can see, etc.\n",
    "\n",
    "Not everyone can see the front-stage in the example below:\n",
    "\n",
    " FRONT STAGE\n",
    "[[1, 2, 3, 2, 1, 1], \n",
    "[2, 4, 4, 3, 2, 2], \n",
    "[5, 5, 5, 10, 4, 4], \n",
    "[6, 6, 7, 6, 5, 5]]\n",
    "\n",
    " The 10 is directly in front of the 6 and blocking its view.\n",
    "\n",
    "The function should return True if every number can see the front-stage, and False if even a single number cannot.\n",
    "\n",
    "Examples\n",
    "\n",
    "can_see_stage([\n",
    "  [1, 2, 3],\n",
    "  [4, 5, 6],\n",
    "  [7, 8, 9]\n",
    "]) ➞ True\n",
    "\n",
    "can_see_stage([\n",
    "  [0, 0, 0],\n",
    "  [1, 1, 1],\n",
    "  [2, 2, 2]\n",
    "]) ➞ True\n",
    "\n",
    "can_see_stage([\n",
    "  [2, 0, 0], \n",
    "  [1, 1, 1], \n",
    "  [2, 2, 2]\n",
    "]) ➞ False\n",
    "\n",
    "can_see_stage([\n",
    "  [1, 0, 0],\n",
    "  [1, 1, 1],\n",
    "  [2, 2, 2]\n",
    "]) ➞ False\n",
    "\n",
    " Number must be strictly smaller than \n",
    " the number directly behind it."
   ]
  },
  {
   "cell_type": "code",
   "execution_count": 4,
   "id": "3123647a",
   "metadata": {},
   "outputs": [
    {
     "name": "stdout",
     "output_type": "stream",
     "text": [
      "True\n",
      "True\n",
      "False\n",
      "False\n"
     ]
    }
   ],
   "source": [
    "def can_see_stage(lst):\n",
    "    for i in range(len(lst[0])):\n",
    "        res = -1\n",
    "        for l in lst:\n",
    "            if res<l[i]:\n",
    "                res = l[i]\n",
    "            else:\n",
    "                return False\n",
    "    return True\n",
    "\n",
    "print(can_see_stage([\n",
    "  [1, 2, 3],\n",
    "  [4, 5, 6],\n",
    "  [7, 8, 9]\n",
    "]))\n",
    "print(can_see_stage([\n",
    "  [0, 0, 0],\n",
    "  [1, 1, 1],\n",
    "  [2, 2, 2]\n",
    "]))\n",
    "print(can_see_stage([\n",
    "  [2, 0, 0], \n",
    "  [1, 1, 1], \n",
    "  [2, 2, 2]\n",
    "]))\n",
    "print(can_see_stage([\n",
    "  [1, 0, 0],\n",
    "  [1, 1, 1],\n",
    "  [2, 2, 2]\n",
    "]))"
   ]
  },
  {
   "cell_type": "markdown",
   "id": "fb5fe12a",
   "metadata": {},
   "source": [
    "## 5. Create a Pizza class with the attributes order_number and ingredients (which is given as a list). Only the ingredients will be given as input."
   ]
  },
  {
   "cell_type": "markdown",
   "id": "b22a64cc",
   "metadata": {},
   "source": [
    "5. Create a Pizza class with the attributes order_number and ingredients (which is given as a list). Only the ingredients will be given as input.\n",
    "\n",
    "You should also make it so that its possible to choose a ready made pizza flavour rather than typing out the ingredients manually! As well as creating this Pizza class, hard-code the following pizza flavours.\n",
    "\n",
    "Name\t                    Ingredients\n",
    "hawaiian\t          ham, pineapple\n",
    "meat_festival\tbeef, meatball, bacon\n",
    "garden_feast\tspinach, olives, mushroom\n",
    "\n",
    "Examples\n",
    "\n",
    "p1 = Pizza([\"bacon\", \"parmesan\", \"ham\"])    # order 1\n",
    "p2 = Pizza.garden_feast()                  # order 2\n",
    "\n",
    "p1.ingredients ➞ [\"bacon\", \"parmesan\", \"ham\"]\n",
    "\n",
    "p2.ingredients ➞ [\"spinach\", \"olives\", \"mushroom\"]\n",
    "\n",
    "p1.order_number ➞ 1\n",
    "\n",
    "p2.order_number ➞ 2"
   ]
  },
  {
   "cell_type": "code",
   "execution_count": 5,
   "id": "60b2ef12",
   "metadata": {},
   "outputs": [
    {
     "name": "stdout",
     "output_type": "stream",
     "text": [
      "['bacon', 'parmesan', 'ham']\n",
      "['spinach', 'olives', 'mushroom']\n",
      "1\n",
      "2\n"
     ]
    }
   ],
   "source": [
    "class Pizza:\n",
    "    order_number = 0\n",
    "    def __init__(self, ingredients):\n",
    "        Pizza.order_number += 1\n",
    "        self.order_number = Pizza.order_number\n",
    "        self.ingredients = ingredients\n",
    "    \n",
    "    def hawaiian():\n",
    "        return Pizza(['ham', 'pineapple'])\n",
    "    \n",
    "    def meat_festival():\n",
    "        return Pizza(['beef', 'meatball', 'bacon'])\n",
    "        \n",
    "\n",
    "    def garden_feast():\n",
    "        return Pizza(['spinach', 'olives', 'mushroom'])\n",
    "\n",
    "p1 = Pizza([\"bacon\", \"parmesan\", \"ham\"])\n",
    "p2 = Pizza.garden_feast()\n",
    "\n",
    "print(p1.ingredients)\n",
    "print(p2.ingredients)\n",
    "print(p1.order_number)\n",
    "print(p2.order_number)"
   ]
  }
 ],
 "metadata": {
  "kernelspec": {
   "display_name": "Python 3 (ipykernel)",
   "language": "python",
   "name": "python3"
  },
  "language_info": {
   "codemirror_mode": {
    "name": "ipython",
    "version": 3
   },
   "file_extension": ".py",
   "mimetype": "text/x-python",
   "name": "python",
   "nbconvert_exporter": "python",
   "pygments_lexer": "ipython3",
   "version": "3.8.11"
  }
 },
 "nbformat": 4,
 "nbformat_minor": 5
}
