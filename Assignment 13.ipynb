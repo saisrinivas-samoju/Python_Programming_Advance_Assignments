{
 "cells": [
  {
   "cell_type": "markdown",
   "id": "7ba9e31e",
   "metadata": {},
   "source": [
    "## 1. Return the letters from the given list which are not in the given string."
   ]
  },
  {
   "cell_type": "markdown",
   "id": "96be7ad9",
   "metadata": {},
   "source": [
    "1. Create a function that takes a list and string. The function should remove the letters in the string from the list, and return the list.\n",
    "\n",
    "Examples\n",
    "\n",
    "remove_letters([\"s\", \"t\", \"r\", \"i\", \"n\", \"g\", \"w\"], \"string\") ➞ [\"w\"]\n",
    "\n",
    "remove_letters([\"b\", \"b\", \"l\", \"l\", \"g\", \"n\", \"o\", \"a\", \"w\"], \"balloon\") ➞ [\"b\", \"g\", \"w\"]\n",
    "\n",
    "remove_letters([\"d\", \"b\", \"t\", \"e\", \"a\", \"i\"], \"edabit\") ➞ []"
   ]
  },
  {
   "cell_type": "code",
   "execution_count": 1,
   "id": "7f76c902",
   "metadata": {},
   "outputs": [
    {
     "name": "stdout",
     "output_type": "stream",
     "text": [
      "['w']\n",
      "['b', 'g', 'w']\n",
      "[]\n"
     ]
    }
   ],
   "source": [
    "def remove_letters(lst, text):\n",
    "    res=[]\n",
    "    char_list = [char for char in text]\n",
    "    for word in lst:\n",
    "        if word in char_list:\n",
    "            char_list.remove(word)\n",
    "        else:\n",
    "            res.append(word)\n",
    "    return res\n",
    "\n",
    "print(remove_letters([\"s\", \"t\", \"r\", \"i\", \"n\", \"g\", \"w\"], \"string\"))\n",
    "print(remove_letters([\"b\", \"b\", \"l\", \"l\", \"g\", \"n\", \"o\", \"a\", \"w\"], \"balloon\"))\n",
    "print(remove_letters([\"d\", \"b\", \"t\", \"e\", \"a\", \"i\"], \"edabit\"))"
   ]
  },
  {
   "cell_type": "markdown",
   "id": "7fffc466",
   "metadata": {},
   "source": [
    "## 2. Find the numbers of blocks in sequence."
   ]
  },
  {
   "cell_type": "markdown",
   "id": "50331abb",
   "metadata": {},
   "source": [
    "2. A block sequence in three dimensions. We can write a formula for this one:"
   ]
  },
  {
   "cell_type": "markdown",
   "id": "0597de06",
   "metadata": {},
   "source": [
    "<a href=\"https://ibb.co/QbNwSzn\"><img src=\"https://i.ibb.co/yfyjvG5/block-seq.png\" alt=\"block-seq\" border=\"0\"></a>"
   ]
  },
  {
   "cell_type": "markdown",
   "id": "f4b78236",
   "metadata": {},
   "source": [
    "Create a function that takes a number (step) as an argument and returns the amount of blocks in that step.\n",
    "\n",
    "Examples\n",
    "\n",
    "blocks(1) ➞ 5\n",
    "\n",
    "blocks(5) ➞ 39\n",
    "\n",
    "blocks(2) ➞ 12"
   ]
  },
  {
   "cell_type": "code",
   "execution_count": 2,
   "id": "f6170cae",
   "metadata": {},
   "outputs": [
    {
     "name": "stdout",
     "output_type": "stream",
     "text": [
      "5\n",
      "39\n",
      "12\n"
     ]
    }
   ],
   "source": [
    "# there is pattern in the increasing number of blocks 5 + 7 + 8 + 9 + 10 + ..\n",
    "# It is just the sum of n consective numbers without the 1,2,3,4, and 6\n",
    "# 1+2+3+4+6 = 16\n",
    "# n starts from 5\n",
    "\n",
    "blocks = lambda n: int(((5+n)*(6+n))/2) - 16\n",
    "\n",
    "print(blocks(1))\n",
    "print(blocks(5))\n",
    "print(blocks(2))"
   ]
  },
  {
   "cell_type": "markdown",
   "id": "5d53f5f6",
   "metadata": {},
   "source": [
    "## 3. Subtract the given two numbers without using any arithmetic operators."
   ]
  },
  {
   "cell_type": "markdown",
   "id": "3b121054",
   "metadata": {},
   "source": [
    "3. Create a function that subtracts one positive integer from another, without using any arithmetic operators such as -, %, /, +, etc.\n",
    "\n",
    "Examples\n",
    "\n",
    "my_sub(5, 9) ➞ 4\n",
    "\n",
    "my_sub(10, 30) ➞ 20\n",
    "\n",
    "my_sub(0, 0) ➞ 0"
   ]
  },
  {
   "cell_type": "code",
   "execution_count": 3,
   "id": "e558d44d",
   "metadata": {},
   "outputs": [
    {
     "name": "stdout",
     "output_type": "stream",
     "text": [
      "4\n",
      "20\n",
      "0\n"
     ]
    }
   ],
   "source": [
    "def my_sub(a, b):\n",
    "    x = max(a, b)\n",
    "    y = min(a, b)\n",
    "    return sum([x, ~y, 1])\n",
    "\n",
    "print(my_sub(5, 9))\n",
    "print(my_sub(10, 30))\n",
    "print(my_sub(0, 0))"
   ]
  },
  {
   "cell_type": "markdown",
   "id": "affe6c5f",
   "metadata": {},
   "source": [
    "## 4. Find the sum of all the bills in dollars."
   ]
  },
  {
   "cell_type": "markdown",
   "id": "bfa06ca4",
   "metadata": {},
   "source": [
    "4. Create a function that takes a string containing money in dollars and pounds sterling (seperated by comma) and returns the sum of dollar bills only, as an integer.\n",
    "\n",
    "For the input string:\n",
    "\n",
    "   - Each amount is prefixed by the currency symbol: $ for dollars and £ for pounds.\n",
    "   - Thousands are represented by the suffix k.\n",
    "\n",
    "i.e. $4k = $4,000 and £40k = £40,000\n",
    "\n",
    "Examples\n",
    "\n",
    "add_bill(\"d20,p40,p60,d50\") ➞ 20 + 50 = 70\n",
    "\n",
    "add_bill(\"p30,d20,p60,d150,p360\") ➞ 20  + 150 = 170\n",
    "\n",
    "add_bill(\"p30,d2k,p60,d200,p360\") ➞ 2 * 1000 + 200 = 2200"
   ]
  },
  {
   "cell_type": "code",
   "execution_count": 4,
   "id": "fd074f7e",
   "metadata": {},
   "outputs": [
    {
     "name": "stdout",
     "output_type": "stream",
     "text": [
      "70\n",
      "170\n",
      "2200\n"
     ]
    }
   ],
   "source": [
    "def add_bill(text):\n",
    "    res = []\n",
    "    for i in text.split(','):\n",
    "        if i[0]=='d':\n",
    "            if i[-1].lower()=='k':\n",
    "                res.append(int(i[1:-1])*1000)\n",
    "            else:\n",
    "                res.append(int(i[1:]))\n",
    "    return sum(res)\n",
    "\n",
    "print(add_bill(\"d20,p40,p60,d50\"))\n",
    "print(add_bill(\"p30,d20,p60,d150,p360\"))\n",
    "print(add_bill(\"p30,d2k,p60,d200,p360\"))"
   ]
  },
  {
   "cell_type": "markdown",
   "id": "4d5cb35e",
   "metadata": {},
   "source": [
    "## 5. Flip the given array"
   ]
  },
  {
   "cell_type": "markdown",
   "id": "7a50d3cb",
   "metadata": {},
   "source": [
    "5. Create a function that flips a horizontal list into a vertical list, and a vertical list into a horizontal list.\n",
    "\n",
    "In other words, take an 1 x n list (1 row + n columns) and flip it into a n x 1 list (n rows and 1 column), and vice versa.\n",
    "\n",
    "Examples\n",
    "\n",
    "flip_list([1, 2, 3, 4]) ➞ [[1], [2], [3], [4]]\n",
    "Take a horizontal list and flip it vertical.\n",
    "\n",
    "flip_list([[5], [6], [9]]) ➞ [5, 6, 9]\n",
    "Take a vertical list and flip it horizontal.\n",
    "\n",
    "flip_list([]) ➞ []"
   ]
  },
  {
   "cell_type": "code",
   "execution_count": 5,
   "id": "3a2f59cc",
   "metadata": {},
   "outputs": [
    {
     "name": "stdout",
     "output_type": "stream",
     "text": [
      "[[1], [2], [3], [4]]\n",
      "[5, 6, 9]\n",
      "[]\n"
     ]
    }
   ],
   "source": [
    "def flip_list(lst):\n",
    "    res = []\n",
    "    for i in lst:\n",
    "        if type(i)==list:\n",
    "            res.append(i[0])\n",
    "        else:\n",
    "            res.append([i])\n",
    "    return res\n",
    "\n",
    "print(flip_list([1, 2, 3, 4]))\n",
    "print(flip_list([[5], [6], [9]]))\n",
    "print(flip_list([]))"
   ]
  }
 ],
 "metadata": {
  "kernelspec": {
   "display_name": "Python 3 (ipykernel)",
   "language": "python",
   "name": "python3"
  },
  "language_info": {
   "codemirror_mode": {
    "name": "ipython",
    "version": 3
   },
   "file_extension": ".py",
   "mimetype": "text/x-python",
   "name": "python",
   "nbconvert_exporter": "python",
   "pygments_lexer": "ipython3",
   "version": "3.8.11"
  }
 },
 "nbformat": 4,
 "nbformat_minor": 5
}
