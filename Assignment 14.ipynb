{
 "cells": [
  {
   "cell_type": "markdown",
   "id": "9b88a552",
   "metadata": {},
   "source": [
    "## 1. Remove 25% from every number in the list except the smallest number and add those values to the smallest number in the list."
   ]
  },
  {
   "cell_type": "markdown",
   "id": "4be246e2",
   "metadata": {},
   "source": [
    "1. Given a list of numbers, create a function that removes 25% from every number in the list except the smallest number, and adds the total amount removed to the smallest number.\n",
    "\n",
    "Examples\n",
    "\n",
    "show_the_love([4, 1, 4]) ➞ [3, 3, 3]\n",
    "\n",
    "show_the_love([16, 10, 8]) ➞ [12, 7.5, 14.5]\n",
    "\n",
    "show_the_love([2, 100]) ➞ [27, 75]"
   ]
  },
  {
   "cell_type": "code",
   "execution_count": 1,
   "id": "8b17df69",
   "metadata": {},
   "outputs": [
    {
     "name": "stdout",
     "output_type": "stream",
     "text": [
      "[3, 3, 3]\n",
      "[12, 7.5, 14.5]\n",
      "[27, 75]\n"
     ]
    }
   ],
   "source": [
    "def show_the_love(lst):\n",
    "    res = []\n",
    "    a = min(lst)\n",
    "    b = 0\n",
    "    for i in lst:\n",
    "        if i!=a:\n",
    "            b +=0.25*i\n",
    "    \n",
    "    for j in lst:\n",
    "        if j!=a:\n",
    "            if int(j*0.75)==j*0.75:\n",
    "                res.append(int(j*0.75))\n",
    "            else:\n",
    "                res.append(j*0.75)\n",
    "        else:\n",
    "            if int(j+b)==j+b:\n",
    "                res.append(int(j+b))\n",
    "            else:\n",
    "                res.append(j+b)\n",
    "    \n",
    "    return res\n",
    "\n",
    "print(show_the_love([4, 1, 4]))\n",
    "print(show_the_love([16, 10, 8]))\n",
    "print(show_the_love([2, 100]))"
   ]
  },
  {
   "cell_type": "markdown",
   "id": "8840e273",
   "metadata": {},
   "source": [
    "## 2. Create function to distinguish unique letters and shared letters in two words."
   ]
  },
  {
   "cell_type": "markdown",
   "id": "63389e2d",
   "metadata": {},
   "source": [
    "2. Create a function that takes in two words as input and returns a list of three elements, in the following order:\n",
    "\n",
    "   1.Shared letters between two words.\n",
    "   2.Letters unique to word 1.\n",
    "   3.Letters unique to word 2.\n",
    "\n",
    "Each element should have unique letters, and have each letter be alphabetically sorted.\n",
    "\n",
    "Examples\n",
    "\n",
    "letters(\"sharp\", \"soap\") ➞ [\"aps\", \"hr\", \"o\"]\n",
    "\n",
    "letters(\"board\", \"bored\") ➞ [\"bdor\", \"a\", \"e\"]\n",
    "\n",
    "letters(\"happiness\", \"envelope\") ➞ [\"enp\", \"ahis\", \"lov\"]\n",
    "\n",
    "letters(\"kerfuffle\", \"fluffy\") ➞ [\"flu\", \"ekr\", \"y\"]\n",
    " Even with multiple matching letters (e.g. 3 f's), there should \n",
    " only exist a single \"f\" in your first element.\n",
    "\n",
    "letters(\"match\", \"ham\") ➞ [\"ahm\", \"ct\", \"\"]\n",
    " \"ham\" does not contain any letters that are not found already \n",
    " in \"match\"."
   ]
  },
  {
   "cell_type": "code",
   "execution_count": 2,
   "id": "f99ce1db",
   "metadata": {
    "scrolled": true
   },
   "outputs": [
    {
     "name": "stdout",
     "output_type": "stream",
     "text": [
      "['aps', 'hr', 'o']\n",
      "['bdor', 'a', 'e']\n",
      "['enp', 'ahis', 'lov']\n",
      "['flu', 'ekr', 'y']\n",
      "['ahm', 'ct', '']\n"
     ]
    }
   ],
   "source": [
    "def letters(word_a, word_b):\n",
    "    shared = [word for word in word_a if word in [word for word in word_b]]\n",
    "    unique_1 = [word for word in word_a if word not in [word for word in word_b]]\n",
    "    unique_2 = [word for word in word_b if word not in [word for word in word_a]]\n",
    "    return [''.join(sorted(set(shared))), ''.join(sorted(set(unique_1))), ''.join(sorted(set(unique_2)))]\n",
    "\n",
    "print(letters(\"sharp\", \"soap\"))\n",
    "print(letters(\"board\", \"bored\"))\n",
    "print(letters(\"happiness\", \"envelope\"))\n",
    "print(letters(\"kerfuffle\", \"fluffy\"))\n",
    "print(letters(\"match\", \"ham\"))"
   ]
  },
  {
   "cell_type": "markdown",
   "id": "806d26f3",
   "metadata": {},
   "source": [
    "## 3. Return the pairs that are symmetric to each other (in terms of position) in the given list."
   ]
  },
  {
   "cell_type": "markdown",
   "id": "a5dd406a",
   "metadata": {},
   "source": [
    "3. Write a function that pairs the first number in an array with the last, the second number with the second to last, etc.\n",
    "\n",
    "Examples\n",
    "\n",
    "pairs([1, 2, 3, 4, 5, 6, 7]) ➞ [[1, 7], [2, 6], [3, 5], [4, 4]]\n",
    "\n",
    "pairs([1, 2, 3, 4, 5, 6]) ➞ [[1, 6], [2, 5], [3, 4]]\n",
    "\n",
    "pairs([5, 9, 8, 1, 2]) ➞ [[5, 2], [9, 1], [8, 8]]\n",
    "\n",
    "pairs([]) ➞ []"
   ]
  },
  {
   "cell_type": "code",
   "execution_count": 3,
   "id": "30a7ccc1",
   "metadata": {},
   "outputs": [
    {
     "name": "stdout",
     "output_type": "stream",
     "text": [
      "[[1, 7], [2, 6], [3, 5], [4, 4]]\n",
      "[[1, 6], [2, 5], [3, 4]]\n",
      "[[5, 2], [9, 1], [8, 8]]\n",
      "[]\n"
     ]
    }
   ],
   "source": [
    "def pairs(lst):\n",
    "    res = []\n",
    "    if len(lst)%2==0:\n",
    "        a = int(len(lst)/2)\n",
    "    else:\n",
    "        a = int((len(lst)+1)/2)\n",
    "    \n",
    "    for i in range(a):\n",
    "        res.append([lst[i], lst[-1-i]])\n",
    "    \n",
    "    return res\n",
    "\n",
    "print(pairs([1, 2, 3, 4, 5, 6, 7]))\n",
    "print(pairs([1, 2, 3, 4, 5, 6]))\n",
    "print(pairs([5, 9, 8, 1, 2]))\n",
    "print(pairs([]))"
   ]
  },
  {
   "cell_type": "markdown",
   "id": "3a11df2d",
   "metadata": {},
   "source": [
    "## 4. Add the given two string numbers according to the given conditions."
   ]
  },
  {
   "cell_type": "markdown",
   "id": "e832dbb3",
   "metadata": {},
   "source": [
    "4. Write a function that adds two numbers. The catch, however, is that the numbers will be strings.\n",
    "\n",
    "Examples\n",
    "\n",
    "add_str_nums(\"4\", \"5\") ➞ \"9\"\n",
    "\n",
    "add_str_nums(\"abcdefg\", \"3\") ➞ \"-1\"\n",
    "\n",
    "add_str_nums(\"1\", \"\") ➞ \"1\"\n",
    "\n",
    "add_str_nums(\"1874682736267235927359283579235789257\", \"32652983572985729\") ➞ \"1874682736267235927391936562808774986\""
   ]
  },
  {
   "cell_type": "code",
   "execution_count": 4,
   "id": "81c7df3b",
   "metadata": {
    "scrolled": true
   },
   "outputs": [
    {
     "name": "stdout",
     "output_type": "stream",
     "text": [
      "9\n",
      "-1\n",
      "1\n",
      "1874682736267235927391936562808774986\n"
     ]
    }
   ],
   "source": [
    "def add_str_nums(a, b):\n",
    "    \n",
    "    if a.isdigit() and b.isdigit():\n",
    "        return str(int(a)+int(b))\n",
    "    \n",
    "    elif not a.isdigit() and b.isdigit():\n",
    "        if a=='':\n",
    "            return b\n",
    "        else:\n",
    "            return str(-1)\n",
    "    \n",
    "    elif a.isdigit() and not b.isdigit():\n",
    "        if b=='':\n",
    "            return a\n",
    "        else:\n",
    "            return str(-1)\n",
    "        \n",
    "    else:\n",
    "        return str(-1)\n",
    "    \n",
    "print(add_str_nums(\"4\", \"5\"))\n",
    "print(add_str_nums(\"abcdefg\", \"3\"))\n",
    "print(add_str_nums(\"1\", \"\"))\n",
    "print(add_str_nums(\"1874682736267235927359283579235789257\", \"32652983572985729\"))"
   ]
  },
  {
   "cell_type": "markdown",
   "id": "731397d7",
   "metadata": {},
   "source": [
    "## 5. Unmix the given string"
   ]
  },
  {
   "cell_type": "markdown",
   "id": "4a05cc89",
   "metadata": {},
   "source": [
    "5. lPaeesh le pemu mnxit ehess rtnisg! Oh, sorry, that was supposed to say: Please help me unmix these strings!\n",
    "\n",
    "Somehow my strings have all become mixed up; every pair of characters has been swapped. Help me undo this so I can understand my strings again.\n",
    "\n",
    "Examples\n",
    "\n",
    "unmix(\"123456\") ➞ \"214365\"\n",
    "\n",
    "unmix(\"hTsii  s aimex dpus rtni.g\") ➞ \"This is a mixed up string.\"\n",
    "\n",
    "unmix(\"badce\") ➞ \"abcde\""
   ]
  },
  {
   "cell_type": "code",
   "execution_count": 5,
   "id": "b55d5c6c",
   "metadata": {},
   "outputs": [
    {
     "name": "stdout",
     "output_type": "stream",
     "text": [
      "214365\n",
      "This is a mixed up string.\n",
      "abcde\n"
     ]
    }
   ],
   "source": [
    "def unmix(text):\n",
    "    res = ''\n",
    "    for i in range(0,len(text)-1,2):\n",
    "        res+=text[i+1]\n",
    "        res+=text[i]\n",
    "    if len(text)%2!=0:\n",
    "        res+=text[-1]\n",
    "    return res\n",
    "\n",
    "print(unmix(\"123456\"))\n",
    "print(unmix(\"hTsii  s aimex dpus rtni.g\"))\n",
    "print(unmix(\"badce\"))"
   ]
  }
 ],
 "metadata": {
  "kernelspec": {
   "display_name": "Python 3 (ipykernel)",
   "language": "python",
   "name": "python3"
  },
  "language_info": {
   "codemirror_mode": {
    "name": "ipython",
    "version": 3
   },
   "file_extension": ".py",
   "mimetype": "text/x-python",
   "name": "python",
   "nbconvert_exporter": "python",
   "pygments_lexer": "ipython3",
   "version": "3.8.11"
  }
 },
 "nbformat": 4,
 "nbformat_minor": 5
}
