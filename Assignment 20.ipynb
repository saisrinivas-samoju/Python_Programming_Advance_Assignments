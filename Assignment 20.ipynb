{
 "cells": [
  {
   "cell_type": "markdown",
   "id": "4ed8f1fa",
   "metadata": {},
   "source": [
    "## 1. Create a function based on the given input and output."
   ]
  },
  {
   "cell_type": "markdown",
   "id": "15f57976",
   "metadata": {},
   "source": [
    "1. Create a function based on the input and output. Look at the examples, there is a pattern.\n",
    "\n",
    "Examples\n",
    "\n",
    "secret(\"p.one.two.three\") ➞ \"<p class='one two three'></p>\"\n",
    "\n",
    "secret(\"p.one\") ➞ \"<p class='one'></p>\"\n",
    "\n",
    "secret(\"p.four.five\") ➞ \"<p class='four five'></p>\""
   ]
  },
  {
   "cell_type": "code",
   "execution_count": 1,
   "id": "fd075f8d",
   "metadata": {},
   "outputs": [
    {
     "name": "stdout",
     "output_type": "stream",
     "text": [
      "<p class='one two three'></p>\n",
      "<p class='one'></p>\n",
      "<p class='four five'></p>\n"
     ]
    }
   ],
   "source": [
    "def secret(text):\n",
    "    text = text.split('.')\n",
    "    classes = ' '.join(text[1:])\n",
    "    return f\"<{text[0]} class='{classes}'></{text[0]}>\"\n",
    "\n",
    "print(secret(\"p.one.two.three\"))\n",
    "print(secret(\"p.one\"))\n",
    "print(secret(\"p.four.five\"))"
   ]
  },
  {
   "cell_type": "markdown",
   "id": "3cc8aadb",
   "metadata": {},
   "source": [
    "## 2. Create a function which counts how many lone 1s appear in a given number."
   ]
  },
  {
   "cell_type": "markdown",
   "id": "e1e73d33",
   "metadata": {},
   "source": [
    "2. Create a function which counts how many lone 1s appear in a given number. Lone means the number doesn't appear twice or more in a row.\n",
    "\n",
    "Examples\n",
    "\n",
    "count_lone_ones(101) ➞ 2\n",
    "\n",
    "count_lone_ones(1191) ➞ 1\n",
    "\n",
    "count_lone_ones(1111) ➞ 0\n",
    "\n",
    "count_lone_ones(462) ➞ 0"
   ]
  },
  {
   "cell_type": "code",
   "execution_count": 2,
   "id": "e07fa659",
   "metadata": {},
   "outputs": [
    {
     "name": "stdout",
     "output_type": "stream",
     "text": [
      "2\n",
      "1\n",
      "0\n",
      "0\n"
     ]
    }
   ],
   "source": [
    "def count_lone_ones(num):\n",
    "    res = 0\n",
    "    num = str(num)\n",
    "    if num.count('1')==0:\n",
    "        return 0\n",
    "    elif num.count('1')==1:\n",
    "        return 1\n",
    "    else:\n",
    "        for i in range(len(num)):\n",
    "            if i==0 and num[0]=='1':\n",
    "                if num[1]=='1':\n",
    "                    pass\n",
    "                else:\n",
    "                    res +=1\n",
    "            elif i==len(num)-1 and num[i]=='1':\n",
    "                if num[i-1]=='1':\n",
    "                    pass\n",
    "                else:\n",
    "                    res+=1\n",
    "            else:\n",
    "                if num[i]=='1':\n",
    "                    if num[i-1]!='1' and num[i+1]!='1':\n",
    "                        res+=1\n",
    "    return res\n",
    "\n",
    "print(count_lone_ones(101))\n",
    "print(count_lone_ones(1191))\n",
    "print(count_lone_ones(1111))\n",
    "print(count_lone_ones(462))"
   ]
  },
  {
   "cell_type": "markdown",
   "id": "08eaec30",
   "metadata": {},
   "source": [
    "## 3. Create a grid of given rows and cols and elements ordered along the columns of the grid."
   ]
  },
  {
   "cell_type": "markdown",
   "id": "b64ad96e",
   "metadata": {},
   "source": [
    "3. Write a method that accepts two integer parameters rows and cols. The output is a 2d array of numbers displayed in column-major order, meaning the numbers shown increase sequentially down each column and wrap to the top of the next column to the right once the bottom of the current column is reached.\n",
    "\n",
    "Examples\n",
    "\n",
    "printGrid(3, 6) ➞ [\n",
    "  [1, 4, 7, 10, 13, 16],\n",
    "  [2, 5, 8, 11, 14, 17],\n",
    "  [3, 6, 9, 12, 15, 18]\n",
    "]\n",
    "\n",
    "printGrid(5, 3) ➞ [\n",
    "  [1, 6, 11],\n",
    "  [2, 7, 12],\n",
    "  [3, 8, 13],\n",
    "  [4, 9, 14],\n",
    "  [5, 10, 15]\n",
    "]\n",
    "\n",
    "printGrid(4, 1) ➞ [\n",
    "  [1],\n",
    "  [2],\n",
    "  [3],\n",
    "  [4]\n",
    "]"
   ]
  },
  {
   "cell_type": "code",
   "execution_count": 3,
   "id": "062e62d0",
   "metadata": {
    "scrolled": true
   },
   "outputs": [
    {
     "name": "stdout",
     "output_type": "stream",
     "text": [
      "[[1, 4, 7, 10, 13, 16], [2, 5, 8, 11, 14, 17], [3, 6, 9, 12, 15, 18]]\n",
      "[[1, 6, 11], [2, 7, 12], [3, 8, 13], [4, 9, 14], [5, 10, 15]]\n",
      "[[1], [2], [3], [4]]\n"
     ]
    }
   ],
   "source": [
    "def printGrid(m, n):\n",
    "    res = []\n",
    "    for i in range(1,m+1):\n",
    "        res.append([i])\n",
    "    for j in res:\n",
    "        for k in range(n-1):\n",
    "            j.append(j[-1]+m)\n",
    "    return res\n",
    "\n",
    "print(printGrid(3, 6))\n",
    "print(printGrid(5, 3))\n",
    "print(printGrid(4, 1))"
   ]
  },
  {
   "cell_type": "markdown",
   "id": "76296873",
   "metadata": {},
   "source": [
    "## 4. Given a list of integers, return the smallest positive integer not present in the list."
   ]
  },
  {
   "cell_type": "markdown",
   "id": "10d9673b",
   "metadata": {},
   "source": [
    "4. Given a list of integers, return the smallest positive integer not present in the list.\n",
    "\n",
    "Here is a representative example. Consider the list:\n",
    "\n",
    "[-2, 6, 4, 5, 7, -1, 7, 1, 3, 6, 6, -2, 9, 10, 2, 2]\n",
    "\n",
    "After reordering, the list becomes:\n",
    "\n",
    "[-2, -2, -1, 1, 2, 2, 3, 4, 5, 6, 6, 6, 7, 7, 9, 10]\n",
    "\n",
    "from which we see that the smallest missing positive integer is 8.\n",
    "\n",
    "Examples\n",
    "\n",
    "min_miss_pos([-2, 6, 4, 5, 7, -1, 1, 3, 6, -2, 9, 10, 2, 2]) ➞ 8\n",
    " After sorting, list becomes [-2, -2, -1, 1, 2, 2, 3, 4, 5, 6, 6, 7, 9, 10]\n",
    " So the smallest missing positive integer is 8\n",
    "\n",
    "min_miss_pos([5, 9, -2, 0, 1, 3, 9, 3, 8, 9]) ➞ 2\n",
    " After sorting, list becomes [-2, 0, 1, 3, 3, 5, 8, 9, 9, 9]\n",
    " So the smallest missing positive integer is 2\n",
    "\n",
    "min_miss_pos([0, 4, 4, -1, 9, 4, 5, 2, 10, 7, 6, 3, 10, 9]) ➞ 1\n",
    " After sorting, list becomes [-1, 0, 2, 3, 4, 4, 4, 5, 6, 7, 9, 9, 10, 10]\n",
    " So the smallest missing positive integer is 1"
   ]
  },
  {
   "cell_type": "code",
   "execution_count": 4,
   "id": "1b07bac7",
   "metadata": {},
   "outputs": [
    {
     "name": "stdout",
     "output_type": "stream",
     "text": [
      "8\n",
      "2\n",
      "1\n"
     ]
    }
   ],
   "source": [
    "def min_miss_pos(lst):\n",
    "    for i in list(range(1, max(lst))):\n",
    "        if i not in lst:\n",
    "            return i\n",
    "print(min_miss_pos([-2, 6, 4, 5, 7, -1, 1, 3, 6, -2, 9, 10, 2, 2]))\n",
    "print(min_miss_pos([5, 9, -2, 0, 1, 3, 9, 3, 8, 9]))\n",
    "print(min_miss_pos([0, 4, 4, -1, 9, 4, 5, 2, 10, 7, 6, 3, 10, 9]))"
   ]
  },
  {
   "cell_type": "markdown",
   "id": "2970fbbe",
   "metadata": {},
   "source": [
    "## 5. Create a function to find out who all made minimum no. of orders of given minimum price."
   ]
  },
  {
   "cell_type": "markdown",
   "id": "aeed558e",
   "metadata": {},
   "source": [
    "5. Google is launching a network of autonomous pizza delivery drones and wants you to create a flexible rewards system (Pizza Points™) that can be tweaked in the future. The rules are simple: if a customer has made at least N orders of at least Y price, they get a FREE pizza!\n",
    "\n",
    "Create a function that takes a dictionary of customers, a minimum number of orders and a minimum order price. Return a list of customers that are eligible for a free pizza.\n",
    "\n",
    "Examples\n",
    "\n",
    "customers = {\n",
    "  \"Batman\": [22, 30, 11, 17, 15, 52, 27, 12],\n",
    "  \"Spider-Man\": [5, 17, 30, 33, 40, 22, 26, 10, 11, 45]\n",
    "}\n",
    "\n",
    "  pizza_points(customers, 5, 20) ➞ [\"Spider-Man\"]\n",
    "\n",
    "  pizza_points(customers, 3, 10) ➞ [\"Batman\", \"Spider-Man\"]\n",
    "\n",
    "  pizza_points(customers, 5, 100) ➞ []"
   ]
  },
  {
   "cell_type": "code",
   "execution_count": 5,
   "id": "218cb36d",
   "metadata": {},
   "outputs": [
    {
     "name": "stdout",
     "output_type": "stream",
     "text": [
      "['Spider-Man']\n",
      "['Batman', 'Spider-Man']\n",
      "[]\n"
     ]
    }
   ],
   "source": [
    "customers = {\"Batman\": [22, 30, 11, 17, 15, 52, 27, 12],\"Spider-Man\": [5, 17, 30, 33, 40, 22, 26, 10, 11, 45]}\n",
    "def pizza_points(customers, min_ord, min_price):\n",
    "    res = []\n",
    "    for k, v in customers.items():\n",
    "        orders = 0\n",
    "        for price in v:\n",
    "            if price>=min_price:\n",
    "                orders+=1\n",
    "        if orders>=min_ord:\n",
    "            res.append(k)\n",
    "    return res\n",
    "\n",
    "print(pizza_points(customers, 5, 20))\n",
    "print(pizza_points(customers, 3, 10))\n",
    "print(pizza_points(customers, 5, 100))"
   ]
  }
 ],
 "metadata": {
  "kernelspec": {
   "display_name": "Python 3 (ipykernel)",
   "language": "python",
   "name": "python3"
  },
  "language_info": {
   "codemirror_mode": {
    "name": "ipython",
    "version": 3
   },
   "file_extension": ".py",
   "mimetype": "text/x-python",
   "name": "python",
   "nbconvert_exporter": "python",
   "pygments_lexer": "ipython3",
   "version": "3.8.11"
  }
 },
 "nbformat": 4,
 "nbformat_minor": 5
}
